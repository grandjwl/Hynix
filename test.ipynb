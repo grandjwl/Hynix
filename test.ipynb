{
 "cells": [
  {
   "cell_type": "code",
   "execution_count": 5,
   "metadata": {},
   "outputs": [
    {
     "data": {
      "text/html": [
       "<div>\n",
       "<style scoped>\n",
       "    .dataframe tbody tr th:only-of-type {\n",
       "        vertical-align: middle;\n",
       "    }\n",
       "\n",
       "    .dataframe tbody tr th {\n",
       "        vertical-align: top;\n",
       "    }\n",
       "\n",
       "    .dataframe thead th {\n",
       "        text-align: right;\n",
       "    }\n",
       "</style>\n",
       "<table border=\"1\" class=\"dataframe\">\n",
       "  <thead>\n",
       "    <tr style=\"text-align: right;\">\n",
       "      <th></th>\n",
       "      <th>Unnamed: 0</th>\n",
       "      <th>Date</th>\n",
       "      <th>ID</th>\n",
       "      <th>x1</th>\n",
       "      <th>x3</th>\n",
       "      <th>x4</th>\n",
       "      <th>x5</th>\n",
       "      <th>x6</th>\n",
       "      <th>x7</th>\n",
       "      <th>x8</th>\n",
       "      <th>...</th>\n",
       "      <th>x1478</th>\n",
       "      <th>x1479</th>\n",
       "      <th>x1480</th>\n",
       "      <th>x1481</th>\n",
       "      <th>x1482</th>\n",
       "      <th>x1483</th>\n",
       "      <th>x1484</th>\n",
       "      <th>x1485</th>\n",
       "      <th>x1486</th>\n",
       "      <th>x1548</th>\n",
       "    </tr>\n",
       "  </thead>\n",
       "  <tbody>\n",
       "    <tr>\n",
       "      <th>0</th>\n",
       "      <td>2497</td>\n",
       "      <td>2021-05-21</td>\n",
       "      <td>4244</td>\n",
       "      <td>0.043333</td>\n",
       "      <td>23.2375</td>\n",
       "      <td>NaN</td>\n",
       "      <td>NaN</td>\n",
       "      <td>NaN</td>\n",
       "      <td>-0.08</td>\n",
       "      <td>NaN</td>\n",
       "      <td>...</td>\n",
       "      <td>NaN</td>\n",
       "      <td>NaN</td>\n",
       "      <td>NaN</td>\n",
       "      <td>NaN</td>\n",
       "      <td>NaN</td>\n",
       "      <td>NaN</td>\n",
       "      <td>NaN</td>\n",
       "      <td>NaN</td>\n",
       "      <td>NaN</td>\n",
       "      <td>71.855475</td>\n",
       "    </tr>\n",
       "  </tbody>\n",
       "</table>\n",
       "<p>1 rows × 1485 columns</p>\n",
       "</div>"
      ],
      "text/plain": [
       "  Unnamed: 0        Date    ID        x1       x3   x4   x5   x6    x7   x8  \\\n",
       "0       2497  2021-05-21  4244  0.043333  23.2375  NaN  NaN  NaN -0.08  NaN   \n",
       "\n",
       "   ... x1478 x1479 x1480 x1481 x1482 x1483 x1484 x1485 x1486      x1548  \n",
       "0  ...   NaN   NaN   NaN   NaN   NaN   NaN   NaN   NaN   NaN  71.855475  \n",
       "\n",
       "[1 rows x 1485 columns]"
      ]
     },
     "execution_count": 5,
     "metadata": {},
     "output_type": "execute_result"
    }
   ],
   "source": [
    "import pandas as pd\n",
    "test = pd.read_csv('hynix/testset.csv')\n",
    "test = test.iloc[0,:]\n",
    "test = test.to_frame().transpose()\n",
    "test"
   ]
  }
 ],
 "metadata": {
  "kernelspec": {
   "display_name": "hynix_pycaret",
   "language": "python",
   "name": "python3"
  },
  "language_info": {
   "codemirror_mode": {
    "name": "ipython",
    "version": 3
   },
   "file_extension": ".py",
   "mimetype": "text/x-python",
   "name": "python",
   "nbconvert_exporter": "python",
   "pygments_lexer": "ipython3",
   "version": "3.10.12"
  },
  "orig_nbformat": 4
 },
 "nbformat": 4,
 "nbformat_minor": 2
}
